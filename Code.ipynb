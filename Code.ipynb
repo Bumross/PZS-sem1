{
 "cells": [
  {
   "cell_type": "code",
   "execution_count": 1,
   "metadata": {},
   "outputs": [
    {
     "ename": "ModuleNotFoundError",
     "evalue": "No module named 'wfdb'",
     "output_type": "error",
     "traceback": [
      "\u001b[1;31m---------------------------------------------------------------------------\u001b[0m",
      "\u001b[1;31mModuleNotFoundError\u001b[0m                       Traceback (most recent call last)",
      "\u001b[1;32mc:\\Users\\bruli\\Desktop\\PZS\\PZS-sem1\\Code.ipynb Cell 1\u001b[0m line \u001b[0;36m<cell line: 1>\u001b[1;34m()\u001b[0m\n\u001b[1;32m----> <a href='vscode-notebook-cell:/c%3A/Users/bruli/Desktop/PZS/PZS-sem1/Code.ipynb#W0sZmlsZQ%3D%3D?line=0'>1</a>\u001b[0m \u001b[39mimport\u001b[39;00m \u001b[39mwfdb\u001b[39;00m\n\u001b[0;32m      <a href='vscode-notebook-cell:/c%3A/Users/bruli/Desktop/PZS/PZS-sem1/Code.ipynb#W0sZmlsZQ%3D%3D?line=1'>2</a>\u001b[0m \u001b[39mfrom\u001b[39;00m \u001b[39mwfdb\u001b[39;00m \u001b[39mimport\u001b[39;00m processing\n\u001b[0;32m      <a href='vscode-notebook-cell:/c%3A/Users/bruli/Desktop/PZS/PZS-sem1/Code.ipynb#W0sZmlsZQ%3D%3D?line=2'>3</a>\u001b[0m \u001b[39mimport\u001b[39;00m \u001b[39mnumpy\u001b[39;00m \u001b[39mas\u001b[39;00m \u001b[39mnp\u001b[39;00m\n",
      "\u001b[1;31mModuleNotFoundError\u001b[0m: No module named 'wfdb'"
     ]
    }
   ],
   "source": [
    "import wfdb\n",
    "from wfdb import processing\n",
    "import numpy as np\n",
    "import scipy as sp\n",
    "import matplotlib.pyplot as plt\n",
    "from matplotlib import figure\n",
    "from scipy.fft import fft, ifft\n",
    "\n",
    "def load_data(path):\n",
    "    \"\"\"Loads database file and returns ECG signal samples and fields list\"\"\"\n",
    "    try:\n",
    "        signals, fields = wfdb.rdsamp(path)\n",
    "        ECG = signals[:,0]\n",
    "        return ECG, fields\n",
    "    except Exception as e:\n",
    "        print(f\"Error loading data: {e}\")\n",
    "        return None, None\n",
    "\n",
    "\n",
    "def remove_baseline_wander_fft(ekg_data, sampling_rate=4, cutoff_frequency=0.5):\n",
    "    \"\"\"Removes the baseline wander for better manipulation with data. Using Fourier Transformation\n",
    "    to locate lowfrequency components and erasing them.\"\"\"\n",
    "    spectrum = fft(ekg_data)\n",
    "    freq = np.fft.fftfreq(len(ekg_data), 1/sampling_rate)\n",
    "    spectrum[(freq > -cutoff_frequency) & (freq < cutoff_frequency)] = 0\n",
    "    ekg_without_baseline = np.real(ifft(spectrum))\n",
    "    return ekg_without_baseline\n",
    "\n",
    "def plot(data, samp_rate):\n",
    "    \"\"\"Creates a plot. F(t)\"\"\"\n",
    "    time = np.arange(0, len(data) / samp_rate, 1 / samp_rate)\n",
    "\n",
    "    plt.plot(time, data)\n",
    "    plt.tight_layout()\n",
    "    plt.show()\n",
    "\n",
    "\n",
    "database = 'Database/drive05'\n",
    "ECGnative, fields = load_data(database)\n",
    "samp_rate = fields['fs']\n",
    "print(samp_rate)\n",
    "#crapped data for rewiev\n",
    "ecg_data = np.array(ECGnative[:100])\n",
    "\n",
    "cutoff_frequency = 0.5\n",
    "\n",
    "ecg_edit_fft = remove_baseline_wander_fft(ecg_data, samp_rate, cutoff_frequency=cutoff_frequency)\n",
    "plot(ecg_data, samp_rate)\n",
    "plot(ecg_edit_fft, samp_rate)\n",
    "print(ecg_edit_fft)\n",
    "\n"
   ]
  },
  {
   "cell_type": "code",
   "execution_count": 3,
   "metadata": {},
   "outputs": [],
   "source": [
    "def detect_peaks(X, N=5, area=3, rthreshold=50, pthreshold=90, do_plot=False):\n",
    "    WS = (N//2)+1\n",
    "    f, t, Zxx = scipy.signal,stft(X, nperseg=N, noverlap=0)\n",
    "    Zxx = np.abs(Zxx).reshape(-1, WS)\n",
    "    wmax = np.max(Zxx, axis=1)\n",
    "    thresholdP = np.percentile(X, pthreshold)\n",
    "    peaks = []\n",
    "    for base in intervals.astype(int):\n",
    "        if base >= X.size:\n",
    "            continue\n",
    "        if base > WS + area:\n",
    "            base = base-WS-area\n",
    "        end = base + N + area*2\n",
    "        window = X[base:end]\n",
    "        imax = np.max(window)\n",
    "        if imax > thresholdP:\n",
    "            peakT = base + np.argmax(window)\n",
    "            if peakT in peaks:\n",
    "                continue\n",
    "            peaks.append(peakT)"
   ]
  },
  {
   "cell_type": "code",
   "execution_count": null,
   "metadata": {},
   "outputs": [],
   "source": []
  }
 ],
 "metadata": {
  "kernelspec": {
   "display_name": "Python 3.7.12 ('base')",
   "language": "python",
   "name": "python3"
  },
  "language_info": {
   "codemirror_mode": {
    "name": "ipython",
    "version": 3
   },
   "file_extension": ".py",
   "mimetype": "text/x-python",
   "name": "python",
   "nbconvert_exporter": "python",
   "pygments_lexer": "ipython3",
   "version": "3.10.11"
  },
  "orig_nbformat": 4,
  "vscode": {
   "interpreter": {
    "hash": "a4219d5fd3084799692fd67319b0df9e4445378017e032c43355a8f326d419c8"
   }
  }
 },
 "nbformat": 4,
 "nbformat_minor": 2
}
