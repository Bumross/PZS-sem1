{
 "cells": [
  {
   "cell_type": "code",
   "execution_count": 89,
   "metadata": {},
   "outputs": [
    {
     "ename": "SyntaxError",
     "evalue": "parameter without a default follows parameter with a default (240123224.py, line 85)",
     "output_type": "error",
     "traceback": [
      "\u001b[1;36m  Cell \u001b[1;32mIn[89], line 85\u001b[1;36m\u001b[0m\n\u001b[1;33m    def plot_bpm_over_time(bpm_values, samp_rate, window_duration=10.0, driver):\u001b[0m\n\u001b[1;37m                                                                        ^\u001b[0m\n\u001b[1;31mSyntaxError\u001b[0m\u001b[1;31m:\u001b[0m parameter without a default follows parameter with a default\n"
     ]
    }
   ],
   "source": [
    "import wfdb\n",
    "from wfdb import processing\n",
    "import numpy as np\n",
    "import scipy as sp\n",
    "import matplotlib.pyplot as plt\n",
    "from matplotlib import figure\n",
    "from scipy.fft import fft, ifft\n",
    "import math\n",
    "\n",
    "\n",
    "def load_data(path):\n",
    "    \"\"\"Loads database file and returns ECG signal samples and fields list\"\"\"\n",
    "    try:\n",
    "        signals, fields = wfdb.rdsamp(path)\n",
    "        ECG = signals[:,0]\n",
    "        return ECG, fields\n",
    "    except Exception as e:\n",
    "        print(f\"Error loading data: {e}\")\n",
    "        return None, None\n",
    "\n",
    "\n",
    "def signal_duration(data, samp_rate):\n",
    "    return len(data) / samp_rate\n",
    "\n",
    "\n",
    "def remove_baseline_wander_fft(ekg_data, sampling_rate=4, cutoff_frequency=0.5):\n",
    "    \"\"\"Removes the baseline wander for better manipulation with data. Using Fourier Transformation\n",
    "    to locate lowfrequency components and erasing them.\"\"\"\n",
    "    spectrum = fft(ekg_data)\n",
    "    freq = np.fft.fftfreq(len(ekg_data), 1/sampling_rate)\n",
    "    spectrum[(freq > -cutoff_frequency) & (freq < cutoff_frequency)] = 0\n",
    "    ekg_without_baseline = np.real(ifft(spectrum))\n",
    "    return ekg_without_baseline\n",
    "\n",
    "\n",
    "def find_Rpeaks(ecg_flatten_signal, samp_rate):\n",
    "    \"\"\"Finds R peaks in ECG signal with dynamically changing window size.\n",
    "    Returns a list of peaks and corresponding times.\"\"\"\n",
    "    margin = int(samp_rate/3)\n",
    "    max_window_size = int(samp_rate)\n",
    "\n",
    "    r_peaks = []\n",
    "    current_position = 0\n",
    "    signal_avg = (np.max(ecg_flatten_signal) + np.min(ecg_flatten_signal))*3 / 4\n",
    "\n",
    "    print(signal_avg)\n",
    "\n",
    "    while current_position < len(ecg_flatten_signal):\n",
    "        window_size = min(max_window_size, len(ecg_flatten_signal) - current_position - 1)\n",
    "        window_signal = ecg_flatten_signal[current_position: current_position + window_size]\n",
    "\n",
    "        if not window_signal.any():\n",
    "            current_position += margin\n",
    "            continue\n",
    "\n",
    "        max_value = window_signal[0]\n",
    "        max_position_in_window = 0\n",
    "        max_position_in_window = np.argmax(window_signal)\n",
    "\n",
    "        max_position_in_signal = current_position + max_position_in_window\n",
    "        if ecg_flatten_signal[max_position_in_signal] > signal_avg:\n",
    "            r_peaks.append(max_position_in_signal)\n",
    "\n",
    "        current_position = max_position_in_signal + margin\n",
    "\n",
    "    return r_peaks\n",
    "    \n",
    "\n",
    "def count_rpeaks_in_windows(signal, r_peaks, samp_rate):\n",
    "    \"\"\"Counts number of Rpeaks in every 15 seconds\"\"\"\n",
    "    signal_duration = len(signal) / samp_rate  # Doba trvání signálu v sekundách\n",
    "    window_duration = 15.0  # Délka okna v sekundách\n",
    "    window_count = int(signal_duration / window_duration)  # Počet oken\n",
    "\n",
    "    r_peak_counts = [0] * window_count  # Inicializace seznamu počtu R píků v jednotlivých oknech\n",
    "\n",
    "    for r_peak in r_peaks:\n",
    "        window_index = int(r_peak / (samp_rate * window_duration))  # Určení indexu okna, do kterého patří R pík\n",
    "        if 0 <= window_index < window_count:\n",
    "            r_peak_counts[window_index] += 1  # Zvýšení počtu R píků v příslušném okně\n",
    "\n",
    "    return r_peak_counts\n",
    "\n",
    "\n",
    "def plot_bpm_over_time(bpm_values, samp_rate, driver, window_duration=10.0):\n",
    "    time_axis = [i * window_duration / 60.0 for i in range(len(bpm_values))]\n",
    "    \n",
    "\n",
    "    plt.figure(figsize=(12, 6))\n",
    "    plt.plot(time_axis, bpm_values, linestyle='-', color='b')\n",
    "    plt.title('BPM v závislosti na čase pro měření ' + driver)\n",
    "    plt.xlabel('Čas (minuty)')\n",
    "    plt.ylabel('BPM')\n",
    "    plt.grid(True)\n",
    "    plt.show()"
   ]
  },
  {
   "cell_type": "code",
   "execution_count": 90,
   "metadata": {},
   "outputs": [
    {
     "name": "stdout",
     "output_type": "stream",
     "text": [
      "31\n",
      "172447\n",
      "5562.806451612903\n",
      "0.22374490005061304\n"
     ]
    },
    {
     "ename": "TypeError",
     "evalue": "plot_bpm_over_time() got an unexpected keyword argument 'driver'",
     "output_type": "error",
     "traceback": [
      "\u001b[1;31m---------------------------------------------------------------------------\u001b[0m",
      "\u001b[1;31mTypeError\u001b[0m                                 Traceback (most recent call last)",
      "\u001b[1;32mc:\\Users\\bruli\\Desktop\\PZS\\PZS-sem1\\Code.ipynb Cell 2\u001b[0m line \u001b[0;36m1\n\u001b[0;32m     <a href='vscode-notebook-cell:/c%3A/Users/bruli/Desktop/PZS/PZS-sem1/Code.ipynb#W1sZmlsZQ%3D%3D?line=13'>14</a>\u001b[0m Rpeaks \u001b[39m=\u001b[39m find_Rpeaks(ecg_edit_fft, samp_rate)\n\u001b[0;32m     <a href='vscode-notebook-cell:/c%3A/Users/bruli/Desktop/PZS/PZS-sem1/Code.ipynb#W1sZmlsZQ%3D%3D?line=14'>15</a>\u001b[0m r_peak_counts \u001b[39m=\u001b[39m [count\u001b[39m*\u001b[39m \u001b[39m4\u001b[39m \u001b[39mfor\u001b[39;00m count \u001b[39min\u001b[39;00m count_rpeaks_in_windows(ecg_edit_fft, Rpeaks, samp_rate)]\n\u001b[1;32m---> <a href='vscode-notebook-cell:/c%3A/Users/bruli/Desktop/PZS/PZS-sem1/Code.ipynb#W1sZmlsZQ%3D%3D?line=16'>17</a>\u001b[0m plot_bpm_over_time(r_peak_counts, samp_rate, driver\u001b[39m=\u001b[39;49mdriver)\n",
      "\u001b[1;31mTypeError\u001b[0m: plot_bpm_over_time() got an unexpected keyword argument 'driver'"
     ]
    }
   ],
   "source": [
    "database = 'Database/drive03'\n",
    "driver = database[-2:]\n",
    "ECGnative, fields = load_data(database)\n",
    "samp_rate = fields['fs']\n",
    "seconds = signal_duration(ECGnative, samp_rate)\n",
    "print(samp_rate)\n",
    "print(len(ECGnative))\n",
    "print(seconds)\n",
    "\n",
    "ecg_data = np.array(ECGnative)\n",
    "cutoff_frequency = 0.5\n",
    "\n",
    "ecg_edit_fft = remove_baseline_wander_fft(ecg_data, samp_rate, cutoff_frequency=cutoff_frequency)\n",
    "Rpeaks = find_Rpeaks(ecg_edit_fft, samp_rate)\n",
    "r_peak_counts = [count* 4 for count in count_rpeaks_in_windows(ecg_edit_fft, Rpeaks, samp_rate)]\n",
    "\n",
    "plot_bpm_over_time(r_peak_counts, samp_rate, driver)"
   ]
  },
  {
   "cell_type": "code",
   "execution_count": null,
   "metadata": {},
   "outputs": [],
   "source": []
  }
 ],
 "metadata": {
  "kernelspec": {
   "display_name": "Python 3.7.12 ('base')",
   "language": "python",
   "name": "python3"
  },
  "language_info": {
   "codemirror_mode": {
    "name": "ipython",
    "version": 3
   },
   "file_extension": ".py",
   "mimetype": "text/x-python",
   "name": "python",
   "nbconvert_exporter": "python",
   "pygments_lexer": "ipython3",
   "version": "3.12.0"
  },
  "orig_nbformat": 4,
  "vscode": {
   "interpreter": {
    "hash": "a4219d5fd3084799692fd67319b0df9e4445378017e032c43355a8f326d419c8"
   }
  }
 },
 "nbformat": 4,
 "nbformat_minor": 2
}
